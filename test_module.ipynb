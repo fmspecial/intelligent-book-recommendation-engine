{
 "cells": [
  {
   "cell_type": "code",
   "execution_count": 5,
   "id": "72442db2",
   "metadata": {},
   "outputs": [],
   "source": [
    "from load_dataset_modules import user_preference"
   ]
  },
  {
   "cell_type": "code",
   "execution_count": null,
   "id": "38498d9e",
   "metadata": {},
   "outputs": [],
   "source": [
    "for key in user_preference.keys():\n",
    "   # print(key)"
   ]
  },
  {
   "cell_type": "code",
   "execution_count": null,
   "id": "a369fee4",
   "metadata": {
    "scrolled": true
   },
   "outputs": [],
   "source": [
    "for values in user_preference.values():\n",
    "    print (values)"
   ]
  },
  {
   "cell_type": "code",
   "execution_count": 6,
   "id": "680edf65",
   "metadata": {},
   "outputs": [
    {
     "name": "stdout",
     "output_type": "stream",
     "text": [
      "Enter the first userID please : 278106\n",
      "Enter the second userID please : 278633\n",
      "Books they both read in common, Authors and year of publication:  {\"Songs in Ordinary Time (Oprah's Book Club (Paperback))\": ('Mary McGarry Morris', '1996')} : user1 rating: 9.0 user2 rating:  7.0\n",
      "Books they both read in common, Authors and year of publication:  {'A Lesson Before Dying (Vintage Contemporaries (Paperback))': ('Ernest J. Gaines', '1997')} : user1 rating: 0.0 user2 rating:  0.0\n",
      "The squared euclidean similarity  distance between 278106 and 278633 is 0.25\n"
     ]
    }
   ],
   "source": [
    "from similarity_module import squared_euclidean_similarity\n",
    "\n",
    "def main():\n",
    "    user1 = (input(\"Enter the first userID please : \"))\n",
    "    user2 = (input(\"Enter the second userID please : \"))\n",
    "    \n",
    "    p = squared_euclidean_similarity(user_preference, user1, user2)\n",
    "    print (\"The squared euclidean similarity  distance between\", user1 , \"and\"  , user2, \"is\" , p)\n",
    "main()\n"
   ]
  },
  {
   "cell_type": "code",
   "execution_count": 7,
   "id": "6a11919f",
   "metadata": {},
   "outputs": [
    {
     "name": "stdout",
     "output_type": "stream",
     "text": [
      "Enter the first userID please: 278633\n",
      "Enter the second userID please: 278106\n",
      "kindly enter the power please: 2\n",
      "Books they both read in common, Authors and year of publication:  {\"Songs in Ordinary Time (Oprah's Book Club (Paperback))\": ('Mary McGarry Morris', '1996')} : user1 rating: 7.0 user2 rating:  9.0\n",
      "Books they both read in common, Authors and year of publication:  {'A Lesson Before Dying (Vintage Contemporaries (Paperback))': ('Ernest J. Gaines', '1997')} : user1 rating: 0.0 user2 rating:  0.0\n",
      "Goodbye\n",
      "The minkowski distance similarity  distance between 278633 and 278106 is 0.5\n"
     ]
    }
   ],
   "source": [
    "from similarity_module import minkowski_distance_similarity\n",
    "def main():\n",
    "    user1 = (input(\"Enter the first userID please: \"))\n",
    "    user2 = (input(\"Enter the second userID please: \"))\n",
    "    p = int(input(\"kindly enter the power please: \"))\n",
    "    q = minkowski_distance_similarity(user_preference, user1, user2, p)\n",
    "    print (\"The minkowski distance similarity  distance between\", user1 , \"and\"  , user2, \"is\" , q)\n",
    "    \n",
    "main()"
   ]
  },
  {
   "cell_type": "code",
   "execution_count": 8,
   "id": "65303f2f",
   "metadata": {},
   "outputs": [
    {
     "name": "stdout",
     "output_type": "stream",
     "text": [
      "Enter the first userID please :278106\n",
      "Enter the second userID please :278633\n",
      "The Spearman Correlation  metrics between 278106 and 278633 is 1.0\n"
     ]
    }
   ],
   "source": [
    "from similarity_module import  Spearman_Correlation\n",
    "\n",
    "def main():\n",
    "    user1 = (input(\"Enter the first userID please :\"))\n",
    "    user2 = (input(\"Enter the second userID please :\"))\n",
    "    S = Spearman_Correlation(user_preference, user1, user2)\n",
    "    print (\"The Spearman Correlation  metrics between\", user1 , \"and\"  , user2, \"is\" , S)\n",
    "    \n",
    "main()\n"
   ]
  },
  {
   "cell_type": "code",
   "execution_count": 13,
   "id": "732e6ced",
   "metadata": {},
   "outputs": [
    {
     "name": "stdout",
     "output_type": "stream",
     "text": [
      "Enter the first userID please :278106\n",
      "Enter the second userID please :278633\n",
      "Books they both read in common, Authors and year of publication:  {\"Songs in Ordinary Time (Oprah's Book Club (Paperback))\": ('Mary McGarry Morris', '1996')} : user1 rating: 9.0 user2 rating:  7.0\n",
      "The chebyshev_similarity  metrics between 278106 and 278633 is 0.5\n"
     ]
    }
   ],
   "source": [
    "from similarity_module import chebyshev_similarity\n",
    "def main():\n",
    "    user1 = (input(\"Enter the first userID please :\"))\n",
    "    user2 = (input(\"Enter the second userID please :\"))\n",
    "    r = chebyshev_similarity(user_preference, user1, user2)\n",
    "    print (\"The chebyshev_similarity  metrics between\", user1 , \"and\"  , user2, \"is\" , r)\n",
    "    \n",
    "main()\n"
   ]
  },
  {
   "cell_type": "code",
   "execution_count": 15,
   "id": "20040cbb",
   "metadata": {},
   "outputs": [
    {
     "name": "stdout",
     "output_type": "stream",
     "text": [
      "Enter the first userID please :278633\n",
      "Enter the second userID please :278106\n",
      "The hamming distance  metrics between 278633 and 278106 is 0.0136986301369863\n"
     ]
    }
   ],
   "source": [
    "from similarity_module import hamming_distance\n",
    "def main():\n",
    "    user1 = (input(\"Enter the first userID please :\"))\n",
    "    user2 = (input(\"Enter the second userID please :\"))\n",
    "    h = hamming_distance(user_preference, user1, user2)\n",
    "    print (\"The hamming distance  metrics between\", user1 , \"and\"  , user2, \"is\" , h)\n",
    "    \n",
    "main()"
   ]
  },
  {
   "cell_type": "code",
   "execution_count": 16,
   "id": "dba486d9",
   "metadata": {},
   "outputs": [
    {
     "name": "stdout",
     "output_type": "stream",
     "text": [
      "Enter the first userID please :278106\n",
      "Enter the second userID please :278633\n",
      "Books they both read in common, Authors and year of publication:  {\"Songs in Ordinary Time (Oprah's Book Club (Paperback))\": ('Mary McGarry Morris', '1996')} : user1 rating: 9.0 user2 rating:  7.0\n",
      "Books they both read in common, Authors and year of publication:  {'A Lesson Before Dying (Vintage Contemporaries (Paperback))': ('Ernest J. Gaines', '1997')} : user1 rating: 0.0 user2 rating:  0.0\n",
      "Enter two differnt users who have commonly rated at least two book as division by zero is not mathematically valid\n",
      "Goodbye\n",
      "The Cosine similarity  metrics between 278106 and 278633 is None\n"
     ]
    }
   ],
   "source": [
    "from similarity_module import Cosine_similarity\n",
    "def main():\n",
    "    user1 = (input(\"Enter the first userID please :\"))\n",
    "    user2 = (input(\"Enter the second userID please :\"))\n",
    "    c = Cosine_similarity(user_preference, user1, user2)\n",
    "    print (\"The Cosine similarity  metrics between\", user1 , \"and\"  , user2, \"is\" , c)\n",
    "    \n",
    "main()\n"
   ]
  },
  {
   "cell_type": "code",
   "execution_count": 17,
   "id": "551aa62d",
   "metadata": {},
   "outputs": [
    {
     "name": "stdout",
     "output_type": "stream",
     "text": [
      "Enter the first userID please :278633\n",
      "Enter the second userID please :278106\n",
      "Books they both read in common, Authors and year of publication:  {\"Songs in Ordinary Time (Oprah's Book Club (Paperback))\": ('Mary McGarry Morris', '1996')} : user1 rating: 7.0 user2 rating:  9.0\n",
      "Enter two differnt users who have commonly rated more than a book as division by zero is not mathematically valid\n",
      "Goodbye\n",
      "The Pearson_Correlation  metrics between 278633 and 278106 is None\n"
     ]
    }
   ],
   "source": [
    "from similarity_module import Pearson_Correlation\n",
    "def main():\n",
    "    user1 = (input(\"Enter the first userID please :\"))\n",
    "    user2 = (input(\"Enter the second userID please :\"))\n",
    "    N = Pearson_Correlation(user_preference, user1, user2)\n",
    "    print (\"The Pearson_Correlation  metrics between\", user1 , \"and\"  , user2, \"is\" , N)\n",
    "    \n",
    "main()\n"
   ]
  },
  {
   "cell_type": "code",
   "execution_count": null,
   "id": "48a50ce5",
   "metadata": {},
   "outputs": [],
   "source": []
  }
 ],
 "metadata": {
  "kernelspec": {
   "display_name": "Python 3",
   "language": "python",
   "name": "python3"
  },
  "language_info": {
   "codemirror_mode": {
    "name": "ipython",
    "version": 3
   },
   "file_extension": ".py",
   "mimetype": "text/x-python",
   "name": "python",
   "nbconvert_exporter": "python",
   "pygments_lexer": "ipython3",
   "version": "3.8.8"
  }
 },
 "nbformat": 4,
 "nbformat_minor": 5
}
